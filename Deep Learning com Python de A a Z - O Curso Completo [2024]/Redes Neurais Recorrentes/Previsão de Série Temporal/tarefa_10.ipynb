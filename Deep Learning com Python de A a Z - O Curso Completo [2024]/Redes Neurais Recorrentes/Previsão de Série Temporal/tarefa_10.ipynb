{
 "cells": [
  {
   "cell_type": "markdown",
   "metadata": {},
   "source": [
    "# Import Required Libraries\n",
    "Import the necessary libraries, including NumPy, Pandas, Matplotlib, TensorFlow, and Scikit-learn."
   ]
  },
  {
   "cell_type": "code",
   "execution_count": 51,
   "metadata": {},
   "outputs": [],
   "source": [
    "# Import Required Libraries\n",
    "\n",
    "# Importing the necessary libraries for data manipulation, visualization, and machine learning\n",
    "import numpy as np  # Library for numerical operations\n",
    "import pandas as pd  # Library for data manipulation and analysis\n",
    "import matplotlib  # Library for creating static, animated, and interactive visualizations\n",
    "import matplotlib.pyplot as plt  # Library for creating static, animated, and interactive visualizations\n",
    "import tensorflow as tf  # Library for machine learning and deep learning\n",
    "import sklearn  # Library for machine learning\n",
    "from tensorflow.keras.models import Sequential # Importing the Sequential model from Keras\n",
    "from tensorflow.keras.layers import Dense, Dropout, LSTM # Importing the Dense, Dropout, and LSTM layers from Keras\n",
    "from sklearn.preprocessing import MinMaxScaler # Importing the MinMaxScaler from scikit-learn"
   ]
  },
  {
   "cell_type": "markdown",
   "metadata": {},
   "source": [
    "# Load and Preprocess Training Data\n",
    "Load the training dataset from a CSV file and handle missing values."
   ]
  },
  {
   "cell_type": "code",
   "execution_count": 52,
   "metadata": {},
   "outputs": [],
   "source": [
    "# Load and Preprocess Training Data\n",
    "\n",
    "# Load the training dataset from a CSV file\n",
    "base = pd.read_csv('data/petr4_treinamento_ex.csv')\n",
    "\n",
    "# Handle missing values by dropping any rows with NaN values\n",
    "base = base.dropna()\n",
    "\n",
    "# Extract the 'Open' column as the training data\n",
    "base_treinamento = base.iloc[:, 1:2].values"
   ]
  },
  {
   "cell_type": "markdown",
   "metadata": {},
   "source": [
    "# Normalize Training Data\n",
    "Normalize the training data using MinMaxScaler."
   ]
  },
  {
   "cell_type": "code",
   "execution_count": 53,
   "metadata": {},
   "outputs": [],
   "source": [
    "# Normalize Training Data\n",
    "\n",
    "# Normalize the training data using MinMaxScaler to scale the values between 0 and 1\n",
    "normalizador = MinMaxScaler(feature_range=(0, 1))\n",
    "base_treinamento_normalizada = normalizador.fit_transform(base_treinamento)"
   ]
  },
  {
   "cell_type": "markdown",
   "metadata": {},
   "source": [
    "# Create Data Structure for LSTM\n",
    "Create the data structure with 90 timesteps and 1 output for the LSTM model."
   ]
  },
  {
   "cell_type": "code",
   "execution_count": 54,
   "metadata": {},
   "outputs": [],
   "source": [
    "# Create Data Structure for LSTM\n",
    "\n",
    "# Create the data structure with 90 timesteps and 1 output for the LSTM model\n",
    "previsores = []  # List to store the predictors\n",
    "preco_real = []  # List to store the real stock prices\n",
    "\n",
    "# Loop to create the data structure\n",
    "for i in range(90, 1342):\n",
    "    previsores.append(base_treinamento_normalizada[i-90:i, 0])  # Append the previous 90 days' data\n",
    "    preco_real.append(base_treinamento_normalizada[i, 0])  # Append the current day's data\n",
    "\n",
    "# Convert lists to numpy arrays\n",
    "previsores, preco_real = np.array(previsores), np.array(preco_real)\n",
    "\n",
    "# Reshape the predictors to be compatible with the LSTM model\n",
    "previsores = np.reshape(previsores, (previsores.shape[0], previsores.shape[1], 1))"
   ]
  },
  {
   "cell_type": "markdown",
   "metadata": {},
   "source": [
    "# Build LSTM Model\n",
    "Build the LSTM model with multiple LSTM layers and Dropout regularization."
   ]
  },
  {
   "cell_type": "code",
   "execution_count": null,
   "metadata": {},
   "outputs": [],
   "source": [
    "# Build LSTM Model\n",
    "\n",
    "# Initialize the LSTM model\n",
    "regressor = Sequential()\n",
    "\n",
    "# Add the first LSTM layer with Dropout regularization\n",
    "regressor.add(LSTM(units=100, return_sequences=True, input_shape=(previsores.shape[1], 1)))\n",
    "regressor.add(Dropout(0.3))\n",
    "\n",
    "# Add the second LSTM layer with Dropout regularization\n",
    "regressor.add(LSTM(units=50, return_sequences=True))\n",
    "regressor.add(Dropout(0.2))\n",
    "\n",
    "# Add the third LSTM layer with Dropout regularization\n",
    "regressor.add(LSTM(units=50, return_sequences=True))\n",
    "regressor.add(Dropout(0.2))\n",
    "\n",
    "# Add the fourth LSTM layer with Dropout regularization\n",
    "regressor.add(LSTM(units=50))\n",
    "regressor.add(Dropout(0.2))\n",
    "\n",
    "# Add the output layer with a linear activation function\n",
    "regressor.add(Dense(units=1, activation='linear'))\n",
    "\n",
    "# Compile the LSTM model\n",
    "regressor.compile(optimizer='rmsprop', loss='mean_squared_error', metrics=['mean_absolute_error'])\n",
    "\n",
    "# Train the LSTM model on the training data\n",
    "regressor.fit(previsores, preco_real, epochs=100, batch_size=32)"
   ]
  },
  {
   "cell_type": "markdown",
   "metadata": {},
   "source": [
    "# Compile and Train the Model\n",
    "Compile the LSTM model with the RMSprop optimizer and mean squared error loss function, then train the model."
   ]
  },
  {
   "cell_type": "code",
   "execution_count": null,
   "metadata": {},
   "outputs": [],
   "source": [
    "# Compile and Train the Model\n",
    "\n",
    "# Compile the LSTM model\n",
    "regressor.compile(optimizer='rmsprop', loss='mean_squared_error', metrics=['mean_absolute_error'])\n",
    "\n",
    "# Train the LSTM model on the training data\n",
    "regressor.fit(previsores, preco_real, epochs=100, batch_size=32)"
   ]
  },
  {
   "cell_type": "markdown",
   "metadata": {},
   "source": [
    "# Load and Preprocess Test Data\n",
    "Load the test dataset from a CSV file and preprocess it for prediction."
   ]
  },
  {
   "cell_type": "code",
   "execution_count": null,
   "metadata": {},
   "outputs": [],
   "source": [
    "# Load and Preprocess Test Data\n",
    "\n",
    "# Load the test dataset from a CSV file\n",
    "base_teste = pd.read_csv('data/petr4_teste_ex.csv')\n",
    "\n",
    "# Extract the 'Open' column as the real stock prices for the test data\n",
    "preco_real_teste = base_teste.iloc[:, 1:2].values\n",
    "\n",
    "# Concatenate the training and test data for normalization\n",
    "base_completa = pd.concat((base['Open'], base_teste['Open']), axis=0)\n",
    "\n",
    "# Prepare the inputs for the test data\n",
    "entradas = base_completa[len(base_completa) - len(base_teste) - 90:].values\n",
    "entradas = entradas.reshape(-1, 1)\n",
    "entradas = normalizador.transform(entradas)\n",
    "\n",
    "# Create the data structure for the test data with 90 timesteps\n",
    "X_teste = []\n",
    "for i in range(90, 109):\n",
    "    X_teste.append(entradas[i-90:i, 0])\n",
    "X_teste = np.array(X_teste)\n",
    "\n",
    "# Reshape the test predictors to be compatible with the LSTM model\n",
    "X_teste = np.reshape(X_teste, (X_teste.shape[0], X_teste.shape[1], 1))"
   ]
  },
  {
   "cell_type": "markdown",
   "metadata": {},
   "source": [
    "# Prepare Test Data for Prediction\n",
    "Prepare the test data by creating the required data structure for the LSTM model."
   ]
  },
  {
   "cell_type": "code",
   "execution_count": null,
   "metadata": {},
   "outputs": [],
   "source": [
    "# Prepare Test Data for Prediction\n",
    "\n",
    "# Load the test dataset from a CSV file\n",
    "base_teste = pd.read_csv('petr4_teste_ex.csv')\n",
    "\n",
    "# Extract the 'Open' column as the real stock prices for the test data\n",
    "preco_real_teste = base_teste.iloc[:, 1:2].values\n",
    "\n",
    "# Concatenate the training and test data for normalization\n",
    "base_completa = pd.concat((base['Open'], base_teste['Open']), axis=0)\n",
    "\n",
    "# Prepare the inputs for the test data\n",
    "entradas = base_completa[len(base_completa) - len(base_teste) - 90:].values\n",
    "entradas = entradas.reshape(-1, 1)\n",
    "entradas = normalizador.transform(entradas)\n",
    "\n",
    "# Create the data structure for the test data with 90 timesteps\n",
    "X_teste = []\n",
    "for i in range(90, 109):\n",
    "    X_teste.append(entradas[i-90:i, 0])\n",
    "X_teste = np.array(X_teste)\n",
    "\n",
    "# Reshape the test predictors to be compatible with the LSTM model\n",
    "X_teste = np.reshape(X_teste, (X_teste.shape[0], X_teste.shape[1], 1))"
   ]
  },
  {
   "cell_type": "markdown",
   "metadata": {},
   "source": [
    "# Make Predictions\n",
    "Make predictions using the trained LSTM model and inverse transform the normalized predictions."
   ]
  },
  {
   "cell_type": "code",
   "execution_count": null,
   "metadata": {},
   "outputs": [],
   "source": [
    "# Make Predictions\n",
    "\n",
    "# Use the trained LSTM model to make predictions on the test data\n",
    "previsoes = regressor.predict(X_teste)\n",
    "\n",
    "# Inverse transform the normalized predictions to get the actual stock prices\n",
    "previsoes = normalizador.inverse_transform(previsoes)\n",
    "\n",
    "# Calculate the mean of the predictions\n",
    "previsoes.mean()\n",
    "\n",
    "# Calculate the mean of the real stock prices for the test data\n",
    "preco_real_teste.mean()\n",
    "\n",
    "# Plot the real stock prices and the predicted stock prices\n",
    "plt.plot(preco_real_teste, color='red', label='Preço real')\n",
    "plt.plot(previsoes, color='blue', label='Previsões')\n",
    "plt.title('Previsão preço das ações')\n",
    "plt.xlabel('Tempo')\n",
    "plt.ylabel('Valor Yahoo')\n",
    "plt.legend()\n",
    "plt.show()"
   ]
  },
  {
   "cell_type": "markdown",
   "metadata": {},
   "source": [
    "# Visualize Predictions\n",
    "Visualize the real stock prices and the predicted stock prices using Matplotlib."
   ]
  },
  {
   "cell_type": "code",
   "execution_count": null,
   "metadata": {},
   "outputs": [],
   "source": [
    "# Visualize Predictions\n",
    "\n",
    "# Plot the real stock prices and the predicted stock prices\n",
    "plt.plot(preco_real_teste, color='red', label='Preço real')  # Plot the real stock prices in red\n",
    "plt.plot(previsoes, color='blue', label='Previsões')  # Plot the predicted stock prices in blue\n",
    "plt.title('Previsão preço das ações')  # Set the title of the plot\n",
    "plt.xlabel('Tempo')  # Set the label for the x-axis\n",
    "plt.ylabel('Valor Yahoo')  # Set the label for the y-axis\n",
    "plt.legend()  # Display the legend\n",
    "plt.show()  # Show the plot"
   ]
  }
 ],
 "metadata": {
  "kernelspec": {
   "display_name": "Python 3",
   "language": "python",
   "name": "python3"
  },
  "language_info": {
   "name": "python",
   "version": "3.12.4"
  }
 },
 "nbformat": 4,
 "nbformat_minor": 2
}
